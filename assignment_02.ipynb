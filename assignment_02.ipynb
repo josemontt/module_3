{
 "cells": [
  {
   "cell_type": "code",
   "execution_count": 1,
   "id": "fb31b1aa",
   "metadata": {
    "deletable": false,
    "editable": false
   },
   "outputs": [],
   "source": [
    "# Initialize Otter\n",
    "import otter\n",
    "grader = otter.Notebook(\"assignment_02.ipynb\")"
   ]
  },
  {
   "cell_type": "markdown",
   "id": "1a534c65",
   "metadata": {},
   "source": [
    "<!-- BEGIN QUESTION -->\n",
    "\n",
    "<div class=\"alert alert-info\">\n",
    "\n",
    "# Submission instructions\n",
    "rubric={mechanics}\n",
    "\n",
    "<p>You receive marks for submitting your lab correctly, please follow these instructions:</p>\n",
    "\n",
    "<ul>\n",
    "  <!-- <li>Make at least three commits.</li>-->\n",
    "  <li>Export to HTML via <code>File -> Save and export notebook as... -> HTML</code> and upload the HTML file to Canvas.</li>\n",
    "    <ul>\n",
    "      <li>Before submitting, make sure you restart the kernel and rerun all cells.</li>\n",
    "    </ul>\n",
    "  <li>Don't change any variable names that are given to you, don't move cells around, and don't include any code to install packages in the notebook.</li>\n",
    "  </li>\n",
    "</ul>\n",
    "</div>\n",
    "\n",
    "_Points:_ 1"
   ]
  },
  {
   "cell_type": "markdown",
   "id": "d14158a6",
   "metadata": {},
   "source": [
    "<!-- END QUESTION -->\n",
    "\n",
    "## Warm Up"
   ]
  },
  {
   "cell_type": "markdown",
   "id": "ce5b3da0",
   "metadata": {},
   "source": [
    "\n",
    "<div class=\"alert alert-info\">\n",
    "\n",
    "### Question 0a\n",
    "\n",
    "Before Proceeding to the main task, here are some important terms and definitions that will be useful for you to remember in order to complete this assignment:\n",
    "    \n",
    "<table>\n",
    "<tr>\n",
    "    <td> <b>Definitions:</b></td>\n",
    "<td> <b>Match the terms on the left with the definitions from the list below:</b></td>\n",
    "</tr>\n",
    "<tr>\n",
    "<td> \n",
    "    \n",
    "1. directory\n",
    "2. command line\n",
    "3. operating systems\n",
    "4. root directory\n",
    "5. current working directory\n",
    "6. parent directory\n",
    "7. home directory\n",
    "8. prompt\n",
    "9. command line argument\n",
    "10. absolute path   \n",
    "</td>\n",
    "<td> \n",
    "        \n",
    "A) `A directory contained within another directory`  \n",
    "B) `$`  \n",
    "C) `A description that specifies the location of a file or directory within a file system.`  \n",
    "D) `folder`  \n",
    "E. `/`  \n",
    "F. `..`  \n",
    "G. `Mac, Linux, Windows`  \n",
    "H. `~`  \n",
    "I. `The directory location in which the program operates`  \n",
    "J. `-F`  \n",
    "K. `.`  \n",
    "L. `shell`  \n",
    "M. `JupyterLab`  \n",
    "N. `The part of the operating system that manages how files are stored and retrieved`  \n",
    "    </td>\n",
    "    </tr>\n",
    "</table>\n",
    "\n",
    "</div>\n",
    "\n",
    "\n",
    "_Points:_ 1"
   ]
  },
  {
   "cell_type": "code",
   "execution_count": 2,
   "id": "cbc323ae",
   "metadata": {
    "tags": []
   },
   "outputs": [],
   "source": [
    "# Your response should be a sequence of 10 letters, in the order of the corresponding answer, e.g. 'ABCKCCCDFI'\n",
    "q0a = 'DLGEIFHBJC'"
   ]
  },
  {
   "cell_type": "code",
   "execution_count": 3,
   "id": "a48ca38d",
   "metadata": {
    "deletable": false,
    "editable": false
   },
   "outputs": [
    {
     "data": {
      "text/html": [
       "<p><strong><pre style='display: inline;'>q0a</pre></strong> passed! 💯</p>"
      ],
      "text/plain": [
       "q0a results: All test cases passed!"
      ]
     },
     "execution_count": 3,
     "metadata": {},
     "output_type": "execute_result"
    }
   ],
   "source": [
    "grader.check(\"q0a\")"
   ]
  },
  {
   "cell_type": "markdown",
   "id": "75c661d7",
   "metadata": {},
   "source": [
    "## Set Up\n",
    "\n",
    "1. Download the repo `crime_scene` and save it to your home directory (if you are not sure what your home directory is, type `pwd` in the terminal to see where you are and use `~` to navigate to your home directory).\n",
    "2. After you saved the folder in your home directory, unzip the folder.\n",
    "3. Open the terminal and using `cd` command navigate to the folder `crime_scene`"
   ]
  },
  {
   "cell_type": "markdown",
   "id": "d31feec4",
   "metadata": {},
   "source": [
    "\n",
    "<div class=\"alert alert-info\">\n",
    "    \n",
    "### Question 0b\n",
    "    \n",
    "What will be your location after step 3 using the relative paths?\n",
    "\n",
    "A. `\"../crime_scene\"`  \n",
    "B. `\"./crime_scene\"`  \n",
    "C. `\"/crime_scene\"`  \n",
    "D. `\"~/crime_scene\"`  \n",
    "    \n",
    "    \n",
    "</div>\n",
    "\n",
    "\n",
    "\n",
    "_Points:_ 1"
   ]
  },
  {
   "cell_type": "code",
   "execution_count": 4,
   "id": "ee6f8bac",
   "metadata": {
    "tags": []
   },
   "outputs": [],
   "source": [
    "# Your answer should be a string with all the letters of the options you think are correct, e.g. 'AB'\n",
    "q0b = 'AB'"
   ]
  },
  {
   "cell_type": "code",
   "execution_count": 5,
   "id": "3fefcc6d",
   "metadata": {
    "deletable": false,
    "editable": false
   },
   "outputs": [
    {
     "data": {
      "text/html": [
       "<p><strong><pre style='display: inline;'>q0b</pre></strong> passed! 🚀</p>"
      ],
      "text/plain": [
       "q0b results: All test cases passed!"
      ]
     },
     "execution_count": 5,
     "metadata": {},
     "output_type": "execute_result"
    }
   ],
   "source": [
    "grader.check(\"q0b\")"
   ]
  },
  {
   "cell_type": "markdown",
   "id": "49075184",
   "metadata": {},
   "source": [
    "Once your are inside the `crime_scene` directory you can start solving the Bash Murder Mystery.\n",
    "\n",
    "-----"
   ]
  },
  {
   "cell_type": "markdown",
   "id": "897a4d3e",
   "metadata": {},
   "source": [
    "# Bash Murder Mystery\n",
    "\n",
    "- For questions where multiple answers are allowed, you need to select all correct answers to be awarded full points (there is always at least one correct answer).\n",
    "- If there are commands or option flags that you don't recognize, we encourage you to use the manual pages to read about what these\n",
    "do and try out the commands on your system. Some flags can be used even if they aren't necessarily needed, but won't change the code outcome.\n",
    "- Unless the instructions explicitly tell you to change/navigate to another directory,\n",
    "you are expected to perform the task from the directory you are currently in\n",
    "- Instructions for this mystery murder game do not explicitly mention the commands that you need to use, so try to think about what commands can be used to complete each step. If you get stuck, check the hints!"
   ]
  },
  {
   "cell_type": "markdown",
   "id": "20fd8420",
   "metadata": {},
   "source": [
    "**Step 1: Enter the crime scene.**\n",
    "\n",
    "<details><summary><b>Hint:</b></summary>\n",
    "Use the <code>cd</code> command to enter the <code>crime_scene</code> folder and the <code>ls -F</code> command to find out which directories there are inside.\n",
    "</details>\n",
    "\n",
    "<br>\n"
   ]
  },
  {
   "cell_type": "markdown",
   "id": "e6e5b052",
   "metadata": {},
   "source": [
    "\n",
    "<div class=\"alert alert-info\">\n",
    "    \n",
    "### Question 1\n",
    "    \n",
    "What *folders* do you find at the crime scene?\n",
    "\n",
    "A. `Suspects`  \n",
    "B. `victim.txt`  \n",
    "C. `note_from_killer.txt`  \n",
    "D. `Backup`  \n",
    "E. `security_camera_footage`\n",
    "\n",
    "</div>\n",
    "\n",
    "\n",
    "_Points:_ 1"
   ]
  },
  {
   "cell_type": "code",
   "execution_count": 6,
   "id": "bacb4f2a",
   "metadata": {
    "tags": []
   },
   "outputs": [],
   "source": [
    "# Your answer should be a string with all the letters of the options you think are correct, e.g. 'AB'\n",
    "q1 = 'AE'"
   ]
  },
  {
   "cell_type": "code",
   "execution_count": 7,
   "id": "d671c51b",
   "metadata": {
    "deletable": false,
    "editable": false
   },
   "outputs": [
    {
     "data": {
      "text/html": [
       "<p><strong><pre style='display: inline;'>q1</pre></strong> passed! 💯</p>"
      ],
      "text/plain": [
       "q1 results: All test cases passed!"
      ]
     },
     "execution_count": 7,
     "metadata": {},
     "output_type": "execute_result"
    }
   ],
   "source": [
    "grader.check(\"q1\")"
   ]
  },
  {
   "cell_type": "markdown",
   "id": "52794915",
   "metadata": {},
   "source": [
    "------\n",
    "\n",
    "**Step 2: Open the victim record and add your name as an investigator**\n",
    "\n",
    "<details><summary><b>Hint:</b></summary>\n",
    "Use the <code>code</code> command to open the victim file and enter your name on line 8 of the text file, then save the file.\n",
    "</details>\n",
    "\n"
   ]
  },
  {
   "cell_type": "markdown",
   "id": "5faf8518",
   "metadata": {},
   "source": [
    "\n",
    "<div class=\"alert alert-info\">\n",
    "    \n",
    "### Question 2\n",
    "    \n",
    "What was the victim's time of death?\n",
    "\n",
    "A. `Not available`  \n",
    "B. `8:30 AM`  \n",
    "C. `7:30 PM`  \n",
    "D. `8:30 PM`  \n",
    "E. `10:30 PM` \n",
    "\n",
    "</div>\n",
    "\n",
    "\n",
    "_Points:_ 1"
   ]
  },
  {
   "cell_type": "code",
   "execution_count": 8,
   "id": "a38b1866",
   "metadata": {
    "tags": []
   },
   "outputs": [],
   "source": [
    "# Your answer should be a string with all the letters of the options you think are correct, e.g. 'AB'\n",
    "q2 = 'D'"
   ]
  },
  {
   "cell_type": "code",
   "execution_count": 9,
   "id": "3627fec0",
   "metadata": {
    "deletable": false,
    "editable": false
   },
   "outputs": [
    {
     "data": {
      "text/html": [
       "<p><strong><pre style='display: inline;'>q2</pre></strong> passed! 🎉</p>"
      ],
      "text/plain": [
       "q2 results: All test cases passed!"
      ]
     },
     "execution_count": 9,
     "metadata": {},
     "output_type": "execute_result"
    }
   ],
   "source": [
    "grader.check(\"q2\")"
   ]
  },
  {
   "cell_type": "markdown",
   "id": "97a5cfd1",
   "metadata": {},
   "source": [
    "------\n",
    "\n",
    "**Step 3: Find the hidden murder weapon**\n",
    "\n",
    "<details><summary><b>Hint 1:</b></summary>\n",
    "What <code>ls</code> command can you use to see hidden files (check the manual)?\n",
    "</details>\n",
    "\n",
    "<details><summary><b>Hint 2:</b></summary>\n",
    "Use the <code>ls -a</code> command inside the crime_scene to find the murder weapon.\n",
    "</details>\n"
   ]
  },
  {
   "cell_type": "markdown",
   "id": "4f161634",
   "metadata": {},
   "source": [
    "\n",
    "<div class=\"alert alert-info\">\n",
    "    \n",
    "### Question 3\n",
    "    \n",
    "Enter the name of the file containing the murder weapon information\n",
    "\n",
    "</div>\n",
    "\n",
    "\n",
    "\n",
    "_Points:_ 1"
   ]
  },
  {
   "cell_type": "code",
   "execution_count": 10,
   "id": "7f2e79db",
   "metadata": {
    "tags": []
   },
   "outputs": [],
   "source": [
    "# # Your answer should be a string with name of the file including file extention , e.g., \"document.pdf\"\n",
    "q3 = '.murder_weapon.txt'"
   ]
  },
  {
   "cell_type": "code",
   "execution_count": 11,
   "id": "921d85cc",
   "metadata": {
    "deletable": false,
    "editable": false
   },
   "outputs": [
    {
     "data": {
      "text/html": [
       "<p><strong><pre style='display: inline;'>q3</pre></strong> passed! 💯</p>"
      ],
      "text/plain": [
       "q3 results: All test cases passed!"
      ]
     },
     "execution_count": 11,
     "metadata": {},
     "output_type": "execute_result"
    }
   ],
   "source": [
    "grader.check(\"q3\")"
   ]
  },
  {
   "cell_type": "markdown",
   "id": "be68f0cb",
   "metadata": {},
   "source": [
    "------\n",
    "\n",
    "**Step 4: Investigate the murder weapon**\n",
    "\n",
    "<details><summary><b>Hint 1:</b></summary>\n",
    "Explore the contents of <code>.murder_weapon.txt</code> file\n",
    "</details>\n",
    "\n",
    "<details><summary><b>Hint 2:</b></summary>\n",
    "Use the <code>head</code> command to read the contents of <code>.murder_weapon.txt</code> file.\n",
    "</details>\n"
   ]
  },
  {
   "cell_type": "markdown",
   "id": "a3a52d52",
   "metadata": {},
   "source": [
    "\n",
    "<div class=\"alert alert-info\">\n",
    "    \n",
    "### Question 4\n",
    "    \n",
    "Enter the type of the weapon found at the crime scene:\n",
    "\n",
    "A. `Weapon was not found`  \n",
    "B. `Gun`  \n",
    "C. `Kitchen Knife`  \n",
    "D. `Rifle`  \n",
    "\n",
    "</div>\n",
    "\n",
    "\n",
    "_Points:_ 1"
   ]
  },
  {
   "cell_type": "code",
   "execution_count": 12,
   "id": "dff810c5",
   "metadata": {
    "tags": []
   },
   "outputs": [],
   "source": [
    "# Your answer should be a string with all the letters of the options you think are correct, e.g. 'AB'\n",
    "q4 = 'C'"
   ]
  },
  {
   "cell_type": "code",
   "execution_count": 13,
   "id": "37ad5c30",
   "metadata": {
    "deletable": false,
    "editable": false
   },
   "outputs": [
    {
     "data": {
      "text/html": [
       "<p><strong><pre style='display: inline;'>q4</pre></strong> passed! 🍀</p>"
      ],
      "text/plain": [
       "q4 results: All test cases passed!"
      ]
     },
     "execution_count": 13,
     "metadata": {},
     "output_type": "execute_result"
    }
   ],
   "source": [
    "grader.check(\"q4\")"
   ]
  },
  {
   "cell_type": "markdown",
   "id": "2a49a06b",
   "metadata": {},
   "source": [
    "------\n",
    "\n",
    "**Step 5: Find a list of the suspects' alibis related to this murder (you may want to explore the contents of the crime scene).**\n",
    "\n",
    "<details><summary><b>Hint:</b></summary>\n",
    "Use the <code>cd</code> command to go to Suspects and use <code>ls -F</code> command to check for suspects\n",
    "</details>\n"
   ]
  },
  {
   "cell_type": "markdown",
   "id": "bdfa8779",
   "metadata": {},
   "source": [
    "<!-- BEGIN QUESTION -->\n",
    "\n",
    "<div class=\"alert alert-info\">\n",
    "    \n",
    "### Question 5a\n",
    "    \n",
    "How many suspects do you have?\"\n",
    "\n",
    "</div>\n",
    "\n",
    "_Points:_ 1\n",
    "\n",
    "\n",
    "<!-- END QUESTION -->\n",
    "\n",
    "_Points:_ 1"
   ]
  },
  {
   "cell_type": "code",
   "execution_count": 14,
   "id": "d047e5b0",
   "metadata": {
    "tags": []
   },
   "outputs": [],
   "source": [
    "# Your answer should be a string with a number that you think are correct, e.g. '11'\n",
    "q5a = '5'"
   ]
  },
  {
   "cell_type": "code",
   "execution_count": 15,
   "id": "1a34e85a",
   "metadata": {
    "deletable": false,
    "editable": false
   },
   "outputs": [
    {
     "data": {
      "text/html": [
       "<p><strong><pre style='display: inline;'>q5a</pre></strong> passed! ✨</p>"
      ],
      "text/plain": [
       "q5a results: All test cases passed!"
      ]
     },
     "execution_count": 15,
     "metadata": {},
     "output_type": "execute_result"
    }
   ],
   "source": [
    "grader.check(\"q5a\")"
   ]
  },
  {
   "cell_type": "markdown",
   "id": "50738b2c",
   "metadata": {},
   "source": [
    "\n",
    "<div class=\"alert alert-info\">\n",
    "    \n",
    "### Question 5b\n",
    "    \n",
    "Navigate back to parent directory (`crime scene` folder). \n",
    "\n",
    "You can also check the number of suspects using a more complex query from our notes file, combining\n",
    "the power of  `ls`  and  `wc -l`  with a pipe. \n",
    "    \n",
    "Type your solution below:\n",
    "\n",
    "</div>\n",
    "\n",
    "\n",
    "_Points:_ 1"
   ]
  },
  {
   "cell_type": "code",
   "execution_count": 16,
   "id": "5dc1dfbf",
   "metadata": {
    "tags": []
   },
   "outputs": [],
   "source": [
    "# Your answer should be a string with a single line command surrounded by \"\" \n",
    "q5b = \"ls Suspects | wc -l\""
   ]
  },
  {
   "cell_type": "code",
   "execution_count": 17,
   "id": "1fca8b2c",
   "metadata": {
    "deletable": false,
    "editable": false
   },
   "outputs": [
    {
     "data": {
      "text/html": [
       "<p><strong><pre style='display: inline;'>q5b</pre></strong> passed! 🚀</p>"
      ],
      "text/plain": [
       "q5b results: All test cases passed!"
      ]
     },
     "execution_count": 17,
     "metadata": {},
     "output_type": "execute_result"
    }
   ],
   "source": [
    "grader.check(\"q5b\")"
   ]
  },
  {
   "cell_type": "markdown",
   "id": "1ad545f7",
   "metadata": {},
   "source": [
    "------\n",
    "\n",
    "**Step 6: Review the alibi of each suspect.**\n",
    "\n",
    "<details><summary><b>Hint:</b></summary>\n",
    "Use <code>cd</code> to navigate back to the <code>Suspects</code> directory, and use the <code>head</code> command to read the first 10 lines of each alibi\n",
    "</details>\n",
    "\n",
    "\n"
   ]
  },
  {
   "cell_type": "markdown",
   "id": "221e95e9",
   "metadata": {},
   "source": [
    "\n",
    "<div class=\"alert alert-info\">\n",
    "    \n",
    "### Question 6a \n",
    "    \n",
    "Which command(s) can you use to read each suspects' **entire** alibi file? Assume the file is called `filename.md`\n",
    "\n",
    "A. `head filename.md`   \n",
    "B. `code filename.md`  \n",
    "C. `code .`   \n",
    "D. `cat filename.md`  \n",
    "E. `head -n 25 filename.md`  \n",
    "F. `rm`    \n",
    "G. `mkdir`    \n",
    "\n",
    "\n",
    "</div>\n",
    "\n",
    "\n",
    "\n",
    "_Points:_ 1"
   ]
  },
  {
   "cell_type": "code",
   "execution_count": 18,
   "id": "fe86fab7",
   "metadata": {
    "tags": []
   },
   "outputs": [],
   "source": [
    "# Your answer should be a string with all the letters of the options you think are correct, e.g. 'AB'\n",
    "q6a = 'BDE'"
   ]
  },
  {
   "cell_type": "code",
   "execution_count": 19,
   "id": "84f191fc",
   "metadata": {
    "deletable": false,
    "editable": false
   },
   "outputs": [
    {
     "data": {
      "text/html": [
       "<p><strong><pre style='display: inline;'>q6a</pre></strong> passed! 🚀</p>"
      ],
      "text/plain": [
       "q6a results: All test cases passed!"
      ]
     },
     "execution_count": 19,
     "metadata": {},
     "output_type": "execute_result"
    }
   ],
   "source": [
    "grader.check(\"q6a\")"
   ]
  },
  {
   "cell_type": "markdown",
   "id": "30e04e3d",
   "metadata": {},
   "source": [
    "\n",
    "<div class=\"alert alert-info\">\n",
    "    \n",
    "### Question 6b\n",
    "    \n",
    "You most likely you checked the alibi of each suspect individually. However, this repetitive task can be simplified using the wildcards. Which command can you use to do this more quickly?\n",
    "\n",
    "A. `head *.txt`  \n",
    "B. `cd --all`  \n",
    "C. `head .txt`  \n",
    "D. `head -n 25 *.txt`  \n",
    "E. `head --all`  \n",
    "F. `head ?`  \n",
    "\n",
    "\n",
    "</div>\n",
    "\n",
    "\n",
    "\n",
    "_Points:_ 1"
   ]
  },
  {
   "cell_type": "code",
   "execution_count": 20,
   "id": "bbb57212",
   "metadata": {
    "tags": []
   },
   "outputs": [],
   "source": [
    "# Your answer should be a string with all the letters of the options you think are correct, e.g. 'AB'\n",
    "q6b = 'D'"
   ]
  },
  {
   "cell_type": "code",
   "execution_count": 21,
   "id": "48b92cee",
   "metadata": {
    "deletable": false,
    "editable": false
   },
   "outputs": [
    {
     "data": {
      "text/html": [
       "<p><strong><pre style='display: inline;'>q6b</pre></strong> passed! 🌈</p>"
      ],
      "text/plain": [
       "q6b results: All test cases passed!"
      ]
     },
     "execution_count": 21,
     "metadata": {},
     "output_type": "execute_result"
    }
   ],
   "source": [
    "grader.check(\"q6b\")"
   ]
  },
  {
   "cell_type": "markdown",
   "id": "d37ac8fe",
   "metadata": {},
   "source": [
    "------\n",
    "\n",
    "**Step 7: Find a suspect who was at the \"crime scene\" during the murder.**\n",
    "\n",
    "<details><summary><b>Hint:</b></summary>\n",
    "Use the <code>grep</code> command together with a wildcard to search all the files.\n",
    "</details>\n"
   ]
  },
  {
   "cell_type": "markdown",
   "id": "230e5667",
   "metadata": {},
   "source": [
    "\n",
    "<div class=\"alert alert-info\">\n",
    "    \n",
    "### Question 7\n",
    "    \n",
    "Enter the command that will allow you to check which suspect been at the \"crime scene\". Use one command.\n",
    "\n",
    "</div>\n",
    "\n",
    "\n",
    "_Points:_ 1"
   ]
  },
  {
   "cell_type": "code",
   "execution_count": 22,
   "id": "2b146b0c",
   "metadata": {
    "tags": []
   },
   "outputs": [],
   "source": [
    "q7 = 'grep \"crime scene\" *.txt'"
   ]
  },
  {
   "cell_type": "code",
   "execution_count": 23,
   "id": "6a55daae",
   "metadata": {
    "deletable": false,
    "editable": false
   },
   "outputs": [
    {
     "data": {
      "text/html": [
       "<p><strong><pre style='display: inline;'>q7</pre></strong> passed! 💯</p>"
      ],
      "text/plain": [
       "q7 results: All test cases passed!"
      ]
     },
     "execution_count": 23,
     "metadata": {},
     "output_type": "execute_result"
    }
   ],
   "source": [
    "grader.check(\"q7\")"
   ]
  },
  {
   "cell_type": "markdown",
   "id": "bd6cd9cc",
   "metadata": {},
   "source": [
    "------\n",
    "\n",
    "**Step 8: Return to the crime scene and explore the content from the security cameras.**\n",
    "\n",
    "<details><summary><b>Hint:</b></summary>\n",
    "Use the <code>cd</code> command to get back to the crime scene and to move into the security cameras directory\n",
    "</details>\n"
   ]
  },
  {
   "cell_type": "markdown",
   "id": "5503e51e",
   "metadata": {},
   "source": [
    "<!-- BEGIN QUESTION -->\n",
    "\n",
    "<div class=\"alert alert-info\">\n",
    "    \n",
    "### Question 8a\n",
    "    \n",
    "What command can you use to get to security camera footage directly from Suspects folder?\n",
    "\n",
    "A. `cd ./security_camera_footage`  \n",
    "B. `cd ../security_camera_footage`  \n",
    "C. `cd ~/security_camera_footage`  \n",
    "D. `cd crime_scene/security_camera_footage`  \n",
    "    \n",
    "\n",
    "</div>\n",
    "\n",
    "_Points:_ 1\n",
    "\n",
    "\n",
    "<!-- END QUESTION -->\n",
    "\n",
    "_Points:_ 1"
   ]
  },
  {
   "cell_type": "code",
   "execution_count": 24,
   "id": "2a6aa444",
   "metadata": {
    "tags": []
   },
   "outputs": [],
   "source": [
    "# Your answer should be a string with all the letters of the options you think are correct, e.g. 'AB'\n",
    "q8a = 'B'"
   ]
  },
  {
   "cell_type": "code",
   "execution_count": 25,
   "id": "1691f437",
   "metadata": {
    "deletable": false,
    "editable": false
   },
   "outputs": [
    {
     "data": {
      "text/html": [
       "<p><strong><pre style='display: inline;'>q8a</pre></strong> passed! 🍀</p>"
      ],
      "text/plain": [
       "q8a results: All test cases passed!"
      ]
     },
     "execution_count": 25,
     "metadata": {},
     "output_type": "execute_result"
    }
   ],
   "source": [
    "grader.check(\"q8a\")"
   ]
  },
  {
   "cell_type": "markdown",
   "id": "d3ee2339",
   "metadata": {},
   "source": [
    "\n",
    "<div class=\"alert alert-info\">\n",
    "    \n",
    "### Question 8b\n",
    "    \n",
    "Who was at the crime scene on the day of the murder?\n",
    "\n",
    "A. Aada Aalto  \n",
    "B. Kofi Mensah  \n",
    "C. Ye Wong  \n",
    "D. Deepika Sharma  \n",
    "E. Emily Davis\n",
    "\n",
    "</div>\n",
    "\n",
    "\n",
    "\n",
    "_Points:_ 1"
   ]
  },
  {
   "cell_type": "code",
   "execution_count": 26,
   "id": "f8f073b6",
   "metadata": {
    "tags": []
   },
   "outputs": [],
   "source": [
    "# Your answer should be a string with all the letters of the options you think are correct, e.g. 'AB'\n",
    "q8b = 'AE'"
   ]
  },
  {
   "cell_type": "code",
   "execution_count": 27,
   "id": "1f5ac5c1",
   "metadata": {
    "deletable": false,
    "editable": false
   },
   "outputs": [
    {
     "data": {
      "text/html": [
       "<p><strong><pre style='display: inline;'>q8b</pre></strong> passed! 🎉</p>"
      ],
      "text/plain": [
       "q8b results: All test cases passed!"
      ]
     },
     "execution_count": 27,
     "metadata": {},
     "output_type": "execute_result"
    }
   ],
   "source": [
    "grader.check(\"q8b\")"
   ]
  },
  {
   "cell_type": "markdown",
   "id": "decaaf83",
   "metadata": {},
   "source": [
    "------\n",
    "\n",
    "**Step 9: Based on each suspect's alibi and video camera footage, remove the alibi of the suspect who was at the crime scene at the time of murder**\n",
    "\n",
    "<details><summary><b>Hint:</b></summary>\n",
    "Use the <code>rm</code> command to remove the alibi of the suspect who was at the crime scene at the time of murder\n",
    "</details>\n",
    "<br>"
   ]
  },
  {
   "cell_type": "markdown",
   "id": "de067e91",
   "metadata": {},
   "source": [
    "\n",
    "<div class=\"alert alert-info\">\n",
    "    \n",
    "### Question 9a\n",
    "    \n",
    "What command can you use to return to a crime scene?\n",
    "\n",
    "A. `cd .`  \n",
    "B. `cd ~`  \n",
    "C. `cd ..`  \n",
    "D. `cd crime_scene`  \n",
    "\n",
    "</div>\n",
    "\n",
    "\n",
    "_Points:_ 1"
   ]
  },
  {
   "cell_type": "code",
   "execution_count": 28,
   "id": "baeb8773",
   "metadata": {
    "tags": []
   },
   "outputs": [],
   "source": [
    "# Your answer should be a string with all the letters of the options you think are correct, e.g. 'AB'\n",
    "q9a = 'C'"
   ]
  },
  {
   "cell_type": "code",
   "execution_count": 29,
   "id": "ce37e719",
   "metadata": {
    "deletable": false,
    "editable": false
   },
   "outputs": [
    {
     "data": {
      "text/html": [
       "<p><strong><pre style='display: inline;'>q9a</pre></strong> passed! 🌈</p>"
      ],
      "text/plain": [
       "q9a results: All test cases passed!"
      ]
     },
     "execution_count": 29,
     "metadata": {},
     "output_type": "execute_result"
    }
   ],
   "source": [
    "grader.check(\"q9a\")"
   ]
  },
  {
   "cell_type": "markdown",
   "id": "80b465ba",
   "metadata": {},
   "source": [
    "\n",
    "<div class=\"alert alert-info\">\n",
    "    \n",
    "### Question 9b\n",
    "    \n",
    "Who do you suspect could have committed the murder? Note - make sure you get this question right before proceeding to next step\n",
    "\n",
    "A. Aada Aalto  \n",
    "B. Kofi Mensah  \n",
    "C. Ye Wong  \n",
    "D. Deepika Sharma  \n",
    "E. Emily Davis\n",
    "\n",
    "</div>\n",
    "\n",
    "\n",
    "_Points:_ 1"
   ]
  },
  {
   "cell_type": "code",
   "execution_count": 30,
   "id": "45afc776",
   "metadata": {
    "tags": []
   },
   "outputs": [],
   "source": [
    "# Your answer should be a string with all the letters of the options you think are correct, e.g. 'AB'\n",
    "q9b = 'E'"
   ]
  },
  {
   "cell_type": "code",
   "execution_count": 31,
   "id": "7fb6295e",
   "metadata": {
    "deletable": false,
    "editable": false
   },
   "outputs": [
    {
     "data": {
      "text/html": [
       "<p><strong><pre style='display: inline;'>q9b</pre></strong> passed! ✨</p>"
      ],
      "text/plain": [
       "q9b results: All test cases passed!"
      ]
     },
     "execution_count": 31,
     "metadata": {},
     "output_type": "execute_result"
    }
   ],
   "source": [
    "grader.check(\"q9b\")"
   ]
  },
  {
   "cell_type": "markdown",
   "id": "9323539d",
   "metadata": {},
   "source": [
    "\n",
    "<div class=\"alert alert-info\">\n",
    "    \n",
    "### Question 9c\n",
    "    \n",
    "Which command can you use to remove the alibi file of the suspect who lied about when they were at the crime scene (given that you are currently in the `security_camera_footage` folder)? \n",
    "\n",
    "We don't want to give away who the murderer is yet, so we have replaced the suspects' alibi numbers with `X`, you should replace it with the number of the suspect that you think is the murderer.\n",
    "\n",
    "A. `rm *alibi_suspectX.txt`  \n",
    "B. `rm ../Suspects/alibi_suspectX.txt`  \n",
    "C. `rm /Suspects/alibi_suspectX.txt`  \n",
    "D. `rm Suspects/alibi_suspectX.txt`  \n",
    "\n",
    "</div>\n",
    "\n",
    "\n",
    "_Points:_ 1"
   ]
  },
  {
   "cell_type": "code",
   "execution_count": 32,
   "id": "a8b72afb",
   "metadata": {
    "tags": []
   },
   "outputs": [],
   "source": [
    "# Your answer should be a string with all the letters of the options you think are correct, e.g. 'AB'\n",
    "q9c = 'B'"
   ]
  },
  {
   "cell_type": "code",
   "execution_count": 33,
   "id": "11afc7a0",
   "metadata": {
    "deletable": false,
    "editable": false
   },
   "outputs": [
    {
     "data": {
      "text/html": [
       "<p><strong><pre style='display: inline;'>q9c</pre></strong> passed! 🌟</p>"
      ],
      "text/plain": [
       "q9c results: All test cases passed!"
      ]
     },
     "execution_count": 33,
     "metadata": {},
     "output_type": "execute_result"
    }
   ],
   "source": [
    "grader.check(\"q9c\")"
   ]
  },
  {
   "cell_type": "markdown",
   "id": "922470ed",
   "metadata": {},
   "source": [
    "\n",
    "------\n",
    "\n",
    "**Step 10: Check if the alibi file is removed.**\n",
    "\n",
    "<details><summary><b>Hint:</b></summary>\n",
    "Use the <code>ls</code> command to check if the alibi file is removed.\n",
    "</details>\n",
    "\n",
    "\n",
    "\n",
    "\n"
   ]
  },
  {
   "cell_type": "markdown",
   "id": "b10b0578",
   "metadata": {},
   "source": [
    "\n",
    "<div class=\"alert alert-info\">\n",
    "    \n",
    "### Question 10\n",
    "    \n",
    "How can you check that the alibi file has been removed? Type out the command to do this from your current directory (still `security_camera_footage`).\n",
    "\n",
    "\n",
    "</div>\n",
    "\n",
    "\n",
    "_Points:_ 1"
   ]
  },
  {
   "cell_type": "code",
   "execution_count": 34,
   "id": "0df0125f",
   "metadata": {
    "tags": []
   },
   "outputs": [],
   "source": [
    "# Your answer should be a string with a single line command surrounded by \"\" \n",
    "q10 = 'ls ../Suspects'"
   ]
  },
  {
   "cell_type": "code",
   "execution_count": 35,
   "id": "b7f0af10",
   "metadata": {
    "deletable": false,
    "editable": false
   },
   "outputs": [
    {
     "data": {
      "text/html": [
       "<p><strong><pre style='display: inline;'>q10</pre></strong> passed! 🙌</p>"
      ],
      "text/plain": [
       "q10 results: All test cases passed!"
      ]
     },
     "execution_count": 35,
     "metadata": {},
     "output_type": "execute_result"
    }
   ],
   "source": [
    "grader.check(\"q10\")"
   ]
  },
  {
   "cell_type": "markdown",
   "id": "e2ce768f",
   "metadata": {
    "tags": []
   },
   "source": [
    "------\n",
    "\n",
    "**Step 11: Create a report (aka directory) called Backup.**\n",
    "\n",
    "<details><summary><b>Hint:</b></summary>\n",
    "Use the <code>mkdir</code> command to create a <code>backup</code> directory\n",
    "</details>\n",
    " \n"
   ]
  },
  {
   "cell_type": "markdown",
   "id": "7addc0b7",
   "metadata": {},
   "source": [
    "<div class=\"alert alert-info\">\n",
    "    \n",
    "### Question 11\n",
    "    \n",
    "Which of the following commands could be used to to create a new directory?\n",
    "\n",
    "A. `code backup`  \n",
    "B. `cd backup`  \n",
    "C. `makedir -p backup`  \n",
    "D. `mkdir -p backup`  \n",
    "E. `makedir backup`  \n",
    "F. `mkdir backup`   \n",
    "G. `cd --create backup`    \n",
    "\n",
    "</div>\n",
    "\n",
    "\n",
    "_Points:_ 1"
   ]
  },
  {
   "cell_type": "code",
   "execution_count": 36,
   "id": "a8d62a72",
   "metadata": {
    "tags": []
   },
   "outputs": [],
   "source": [
    "# Your answer should be a string with all the letters of the options you think are correct, e.g. 'AB'\n",
    "q11 = 'F'"
   ]
  },
  {
   "cell_type": "code",
   "execution_count": 37,
   "id": "b4e9b158",
   "metadata": {
    "deletable": false,
    "editable": false
   },
   "outputs": [
    {
     "data": {
      "text/html": [
       "<p><strong><pre style='display: inline;'>q11</pre></strong> passed! 🎉</p>"
      ],
      "text/plain": [
       "q11 results: All test cases passed!"
      ]
     },
     "execution_count": 37,
     "metadata": {},
     "output_type": "execute_result"
    }
   ],
   "source": [
    "grader.check(\"q11\")"
   ]
  },
  {
   "cell_type": "markdown",
   "id": "b7b8a0d4",
   "metadata": {},
   "source": [
    "------\n",
    "\n",
    "**Step 12: Move the remaining alibis to backup directory.** \n",
    "\n",
    "<details><summary><b>Hint:</b></summary>\n",
    "Use the <code>mv</code> command to move the remaining alibis to Backup directory\n",
    "</details>\n",
    "\n"
   ]
  },
  {
   "cell_type": "markdown",
   "id": "6d2dd8ad",
   "metadata": {},
   "source": [
    "<div class=\"alert alert-info\">\n",
    "    \n",
    "### Question 12\n",
    "    \n",
    "State you final decision. Who was the murderer?\n",
    "\n",
    "A. Aada Aalto  \n",
    "B. Kofi Mensah  \n",
    "C. Ye Wong  \n",
    "D. Deepika Sharma  \n",
    "E. Emily Davis\n",
    "\n",
    "</div>\n",
    "\n",
    "\n",
    "_Points:_ 1"
   ]
  },
  {
   "cell_type": "code",
   "execution_count": 38,
   "id": "49785a41",
   "metadata": {
    "tags": []
   },
   "outputs": [],
   "source": [
    "# Your answer should be a string with all the letters of the options you think are correct, e.g. 'AB'\n",
    "q12 = 'E'"
   ]
  },
  {
   "cell_type": "code",
   "execution_count": 39,
   "id": "d4b95cf7",
   "metadata": {
    "deletable": false,
    "editable": false
   },
   "outputs": [
    {
     "data": {
      "text/html": [
       "<p><strong><pre style='display: inline;'>q12</pre></strong> passed! 🎉</p>"
      ],
      "text/plain": [
       "q12 results: All test cases passed!"
      ]
     },
     "execution_count": 39,
     "metadata": {},
     "output_type": "execute_result"
    }
   ],
   "source": [
    "grader.check(\"q12\")"
   ]
  },
  {
   "cell_type": "markdown",
   "id": "38e56ffa",
   "metadata": {},
   "source": [
    "<div class=\"alert alert-danger\" style=\"color:black\">\n",
    "    \n",
    "**Restart and run all before submitting**\n",
    "    \n",
    "Before submitting,\n",
    "don't forget to run all cells in your notebook\n",
    "to make sure there are no errors\n",
    "and so that the TAs can see the output of all the cells properly.\n",
    "You can do this by clicking the ▶▶ button\n",
    "or going to `Kernel -> Restart Kernel and Run All Cells...` in the menu.\n",
    "This is not only important for this course,\n",
    "but a good habit you should get into before ever committing a notebook to GitHub,\n",
    "so that your collaborators can run it from top to bottom\n",
    "without issues.\n",
    "</div>"
   ]
  },
  {
   "cell_type": "markdown",
   "id": "a6ffd4e5",
   "metadata": {},
   "source": [
    "------\n",
    "\n",
    "Mystery Solved, Congratulations! 👍\n",
    "\n",
    "\n"
   ]
  },
  {
   "cell_type": "markdown",
   "id": "73a36148",
   "metadata": {
    "deletable": false,
    "editable": false
   },
   "source": [
    "---\n",
    "\n",
    "To double-check your work, the cell below will rerun all of the autograder tests."
   ]
  },
  {
   "cell_type": "code",
   "execution_count": 40,
   "id": "07cad0cc",
   "metadata": {
    "deletable": false,
    "editable": false
   },
   "outputs": [
    {
     "data": {
      "text/plain": [
       "q0a results: All test cases passed!\n",
       "\n",
       "q0b results: All test cases passed!\n",
       "\n",
       "q1 results: All test cases passed!\n",
       "\n",
       "q10 results: All test cases passed!\n",
       "\n",
       "q11 results: All test cases passed!\n",
       "\n",
       "q12 results: All test cases passed!\n",
       "\n",
       "q2 results: All test cases passed!\n",
       "\n",
       "q3 results: All test cases passed!\n",
       "\n",
       "q4 results: All test cases passed!\n",
       "\n",
       "q5a results: All test cases passed!\n",
       "\n",
       "q5b results: All test cases passed!\n",
       "\n",
       "q6a results: All test cases passed!\n",
       "\n",
       "q6b results: All test cases passed!\n",
       "\n",
       "q7 results: All test cases passed!\n",
       "\n",
       "q8a results: All test cases passed!\n",
       "\n",
       "q8b results: All test cases passed!\n",
       "\n",
       "q9a results: All test cases passed!\n",
       "\n",
       "q9b results: All test cases passed!\n",
       "\n",
       "q9c results: All test cases passed!"
      ]
     },
     "execution_count": 40,
     "metadata": {},
     "output_type": "execute_result"
    }
   ],
   "source": [
    "grader.check_all()"
   ]
  }
 ],
 "metadata": {
  "jupytext": {
   "cell_metadata_filter": "-all",
   "main_language": "python",
   "notebook_metadata_filter": "-all"
  },
  "kernelspec": {
   "display_name": "Python 3 (ipykernel)",
   "language": "python",
   "name": "python3"
  },
  "language_info": {
   "codemirror_mode": {
    "name": "ipython",
    "version": 3
   },
   "file_extension": ".py",
   "mimetype": "text/x-python",
   "name": "python",
   "nbconvert_exporter": "python",
   "pygments_lexer": "ipython3",
   "version": "3.12.3"
  },
  "otter": {
   "OK_FORMAT": true,
   "tests": {
    "q0a": {
     "name": "q0a",
     "points": 1,
     "suites": [
      {
       "cases": [
        {
         "code": ">>> assert 'b' in q0a.lower()\n>>> assert 'c' in q0a.lower()\n>>> assert 'd' in q0a.lower()\n>>> assert 'e' in q0a.lower()\n>>> assert 'f' in q0a.lower()\n>>> assert 'g' in q0a.lower()\n>>> assert 'h' in q0a.lower()\n>>> assert 'i' in q0a.lower()\n>>> assert 'j' in q0a.lower()\n>>> assert 'l' in q0a.lower()\n",
         "failure_message": "You are missing one of the correct answers",
         "hidden": false,
         "locked": false
        },
        {
         "code": ">>> assert 'a' not in q0a.lower()\n>>> assert 'k' not in q0a.lower()\n>>> assert 'm' not in q0a.lower()\n>>> assert 'n' not in q0a.lower()\n",
         "failure_message": "At least one of the options you have selected is not correct",
         "hidden": false,
         "locked": false
        },
        {
         "code": ">>> \n>>> assert q0a.upper() == 'DLGEIFHBJC'\n",
         "failure_message": "At least one of the options you have selected is not in correct order",
         "hidden": false,
         "locked": false
        }
       ],
       "scored": true,
       "setup": "",
       "teardown": "",
       "type": "doctest"
      }
     ]
    },
    "q0b": {
     "name": "q0b",
     "points": 1,
     "suites": [
      {
       "cases": [
        {
         "code": ">>> assert 'a' in q0b.lower()\n>>> assert 'b' in q0b.lower()\n",
         "failure_message": "Your answer is incorrect or you are missing one of the correct answers",
         "hidden": false,
         "locked": false
        },
        {
         "code": ">>> assert 'c' not in q0b.lower()\n>>> assert 'd' not in q0b.lower()\n",
         "failure_message": "At least one of the options you have selected is not correct",
         "hidden": false,
         "locked": false
        }
       ],
       "scored": true,
       "setup": "",
       "teardown": "",
       "type": "doctest"
      }
     ]
    },
    "q1": {
     "name": "q1",
     "points": 1,
     "suites": [
      {
       "cases": [
        {
         "code": ">>> assert 'a' in q1.lower()\n>>> assert 'e' in q1.lower()\n",
         "failure_message": "You are missing one of the correct answers",
         "hidden": false,
         "locked": false
        },
        {
         "code": ">>> assert 'c' not in q1.lower()\n>>> assert 'd' not in q1.lower()\n>>> assert 'b' not in q1.lower()\n",
         "failure_message": "At least one of the options you have selected is not correct",
         "hidden": false,
         "locked": false
        }
       ],
       "scored": true,
       "setup": "",
       "teardown": "",
       "type": "doctest"
      }
     ]
    },
    "q10": {
     "name": "q10",
     "points": 1,
     "suites": [
      {
       "cases": [
        {
         "code": ">>> q10_string = q10.replace(\" \", \"\")\n>>> assert q10_string == \"ls../Suspects\"\n",
         "failure_message": "Your answer is incorrect",
         "hidden": false,
         "locked": false
        }
       ],
       "scored": true,
       "setup": "",
       "teardown": "",
       "type": "doctest"
      }
     ]
    },
    "q11": {
     "name": "q11",
     "points": 1,
     "suites": [
      {
       "cases": [
        {
         "code": ">>> assert 'f' == q11.lower()\n",
         "failure_message": "Your answer is incorrect or you are missing one of the correct answers",
         "hidden": false,
         "locked": false
        }
       ],
       "scored": true,
       "setup": "",
       "teardown": "",
       "type": "doctest"
      }
     ]
    },
    "q12": {
     "name": "q12",
     "points": 1,
     "suites": [
      {
       "cases": [
        {
         "code": ">>> assert 'e' in q12.lower()\n",
         "failure_message": "Your answer is incorrect or you are missing one of the correct answers",
         "hidden": false,
         "locked": false
        }
       ],
       "scored": true,
       "setup": "",
       "teardown": "",
       "type": "doctest"
      }
     ]
    },
    "q2": {
     "name": "q2",
     "points": 1,
     "suites": [
      {
       "cases": [
        {
         "code": ">>> assert 'd' == q2.lower()\n>>> \n",
         "failure_message": "Your answer is incorrect or you are missing one of the correct answers",
         "hidden": false,
         "locked": false
        }
       ],
       "scored": true,
       "setup": "",
       "teardown": "",
       "type": "doctest"
      }
     ]
    },
    "q3": {
     "name": "q3",
     "points": 1,
     "suites": [
      {
       "cases": [
        {
         "code": ">>> q3_string = q3.replace(\" \", \"\")\n>>> assert q3_string == \".murder_weapon.txt\"\n",
         "failure_message": "At least one of the options you have selected is not in correct order",
         "hidden": false,
         "locked": false
        },
        {
         "code": ">>> q3_string = q3.replace(\" \", \"\")\n>>> assert q3_string != \".murder_weapon\"\n",
         "failure_message": "file name missing extension",
         "hidden": false,
         "locked": false
        },
        {
         "code": ">>> q3_string = q3.replace(\" \", \"\")\n>>> assert q3_string != \"murder_weapon.txt\"\n",
         "failure_message": "file name is a hidden file. What character at the beginning of this file name?",
         "hidden": false,
         "locked": false
        }
       ],
       "scored": true,
       "setup": "",
       "teardown": "",
       "type": "doctest"
      }
     ]
    },
    "q4": {
     "name": "q4",
     "points": 1,
     "suites": [
      {
       "cases": [
        {
         "code": ">>> assert 'c' == q4.lower()\n",
         "failure_message": "Your answer is incorrect or you are missing one of the correct answers",
         "hidden": false,
         "locked": false
        }
       ],
       "scored": true,
       "setup": "",
       "teardown": "",
       "type": "doctest"
      }
     ]
    },
    "q5a": {
     "name": "q5a",
     "points": 1,
     "suites": [
      {
       "cases": [
        {
         "code": ">>> assert q5a == '5'\n",
         "failure_message": "Your answer is incorrect",
         "hidden": false,
         "locked": false
        },
        {
         "code": ">>> assert q5a != 5\n",
         "failure_message": "Your answer should be a string",
         "hidden": false,
         "locked": false
        }
       ],
       "scored": true,
       "setup": "",
       "teardown": "",
       "type": "doctest"
      }
     ]
    },
    "q5b": {
     "name": "q5b",
     "points": 1,
     "suites": [
      {
       "cases": [
        {
         "code": ">>> q5b_string = q5b.replace(\" \", \"\")\n>>> assert q5b_string == \"lsSuspects|wc-l\"\n",
         "failure_message": "Your answer is incorrect",
         "hidden": false,
         "locked": false
        }
       ],
       "scored": true,
       "setup": "",
       "teardown": "",
       "type": "doctest"
      }
     ]
    },
    "q6a": {
     "name": "q6a",
     "points": 1,
     "suites": [
      {
       "cases": [
        {
         "code": ">>> assert 'b' in q6a.lower()\n>>> assert 'd' in q6a.lower()\n>>> assert 'e' in q6a.lower()\n>>> \n",
         "failure_message": "You are missing one of the correct answers",
         "hidden": false,
         "locked": false
        },
        {
         "code": ">>> assert 'a' not in q6a.lower()\n>>> assert 'c' not in q6a.lower()\n>>> assert 'f' not in q6a.lower()\n>>> assert 'g' not in q6a.lower()\n",
         "failure_message": "At least one of the options you have selected is not correct",
         "hidden": false,
         "locked": false
        }
       ],
       "scored": true,
       "setup": "",
       "teardown": "",
       "type": "doctest"
      }
     ]
    },
    "q6b": {
     "name": "q6b",
     "points": 1,
     "suites": [
      {
       "cases": [
        {
         "code": ">>> assert 'd' == q6b.lower()\n",
         "failure_message": "Your answer is incorrect or you are missing one of the correct answers",
         "hidden": false,
         "locked": false
        }
       ],
       "scored": true,
       "setup": "",
       "teardown": "",
       "type": "doctest"
      }
     ]
    },
    "q7": {
     "name": "q7",
     "points": 1,
     "suites": [
      {
       "cases": [
        {
         "code": ">>> q7_string = q7.replace('\"crime scene\"', \"'crime scene'\")\n>>> q7_string = q7_string.replace(\" \", \"\")\n>>> assert q7_string == \"grep'crimescene'*.txt\"\n",
         "failure_message": "Your answer is incorrect",
         "hidden": false,
         "locked": false
        }
       ],
       "scored": true,
       "setup": "",
       "teardown": "",
       "type": "doctest"
      }
     ]
    },
    "q8a": {
     "name": "q8a",
     "points": 1,
     "suites": [
      {
       "cases": [
        {
         "code": ">>> assert 'b' == q8a.lower()\n",
         "failure_message": "Your answer is incorrect or you are missing one of the correct answers",
         "hidden": false,
         "locked": false
        }
       ],
       "scored": true,
       "setup": "",
       "teardown": "",
       "type": "doctest"
      }
     ]
    },
    "q8b": {
     "name": "q8b",
     "points": 1,
     "suites": [
      {
       "cases": [
        {
         "code": ">>> assert 'a' in q8b.lower()\n>>> assert 'e' in q8b.lower()\n",
         "failure_message": "You are missing one of the correct answers",
         "hidden": false,
         "locked": false
        },
        {
         "code": ">>> assert 'b' not in q8b.lower()\n>>> assert 'c' not in q8b.lower()\n>>> assert 'd' not in q8b.lower()\n",
         "failure_message": "At least one of the options you have selected is not correct",
         "hidden": false,
         "locked": false
        }
       ],
       "scored": true,
       "setup": "",
       "teardown": "",
       "type": "doctest"
      }
     ]
    },
    "q9a": {
     "name": "q9a",
     "points": 1,
     "suites": [
      {
       "cases": [
        {
         "code": ">>> assert 'c' == q9a.lower()\n",
         "failure_message": "Your answer is incorrect or you are missing one of the correct answers",
         "hidden": false,
         "locked": false
        }
       ],
       "scored": true,
       "setup": "",
       "teardown": "",
       "type": "doctest"
      }
     ]
    },
    "q9b": {
     "name": "q9b",
     "points": 1,
     "suites": [
      {
       "cases": [
        {
         "code": ">>> assert 'e' == q9b.lower()\n",
         "failure_message": "Your answer is incorrect or you are missing one of the correct answers",
         "hidden": false,
         "locked": false
        }
       ],
       "scored": true,
       "setup": "",
       "teardown": "",
       "type": "doctest"
      }
     ]
    },
    "q9c": {
     "name": "q9c",
     "points": 1,
     "suites": [
      {
       "cases": [
        {
         "code": ">>> assert 'b' == q9c.lower()\n",
         "failure_message": "Your answer is incorrect or you are missing one of the correct answers",
         "hidden": false,
         "locked": false
        }
       ],
       "scored": true,
       "setup": "",
       "teardown": "",
       "type": "doctest"
      }
     ]
    }
   }
  }
 },
 "nbformat": 4,
 "nbformat_minor": 5
}
